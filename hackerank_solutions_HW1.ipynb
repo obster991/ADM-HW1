{
 "cells": [
  {
   "cell_type": "markdown",
   "metadata": {},
   "source": [
    "# Hackerrank Solutions File - Andrea Potì"
   ]
  },
  {
   "cell_type": "markdown",
   "metadata": {},
   "source": [
    "## Introduction"
   ]
  },
  {
   "cell_type": "markdown",
   "metadata": {},
   "source": [
    "### Say \"Hello, World!\" With Python"
   ]
  },
  {
   "cell_type": "code",
   "execution_count": null,
   "metadata": {},
   "outputs": [],
   "source": [
    "print(\"Hello, World!\")"
   ]
  },
  {
   "cell_type": "markdown",
   "metadata": {},
   "source": [
    "### Python If-Else"
   ]
  },
  {
   "cell_type": "code",
   "execution_count": 1,
   "metadata": {},
   "outputs": [
    {
     "name": "stdout",
     "output_type": "stream",
     "text": [
      "56\n",
      "Not Weird\n"
     ]
    }
   ],
   "source": [
    "if __name__ == '__main__':\n",
    "    n = int(input().strip())\n",
    "    if n % 2 != 0:\n",
    "        print(\"Weird\")\n",
    "    else:\n",
    "        if 2 <= n <= 5:\n",
    "            print(\"Not Weird\")\n",
    "        elif 6 <= n <= 20:\n",
    "            print(\"Weird\")\n",
    "        elif n > 20:\n",
    "            print(\"Not Weird\")"
   ]
  },
  {
   "cell_type": "markdown",
   "metadata": {},
   "source": [
    "### Arithmetic Operators"
   ]
  },
  {
   "cell_type": "code",
   "execution_count": null,
   "metadata": {},
   "outputs": [],
   "source": [
    "if __name__ == '__main__':\n",
    "    a = int(input())\n",
    "    b = int(input())\n",
    "    print(a+b)\n",
    "    print(a-b)\n",
    "    print(a*b)"
   ]
  },
  {
   "cell_type": "markdown",
   "metadata": {},
   "source": [
    "### Python: Division"
   ]
  },
  {
   "cell_type": "code",
   "execution_count": null,
   "metadata": {},
   "outputs": [],
   "source": [
    "if __name__ == '__main__':\n",
    "    a = int(input())\n",
    "    b = int(input())\n",
    "    print(a//b)\n",
    "    print(a/b)"
   ]
  },
  {
   "cell_type": "markdown",
   "metadata": {},
   "source": [
    "### Loops"
   ]
  },
  {
   "cell_type": "code",
   "execution_count": null,
   "metadata": {},
   "outputs": [],
   "source": [
    "if __name__ == '__main__':\n",
    "    n = int(input())\n",
    "    for i in range(0,n):\n",
    "        print(i**2)"
   ]
  },
  {
   "cell_type": "markdown",
   "metadata": {},
   "source": [
    "### Write a function"
   ]
  },
  {
   "cell_type": "code",
   "execution_count": null,
   "metadata": {},
   "outputs": [],
   "source": [
    "def is_leap(year):\n",
    "    \n",
    "    leap = False\n",
    "    \n",
    "    if year % 4 == 0:\n",
    "        leap = True\n",
    "        if year % 100 == 0:\n",
    "            leap = False\n",
    "            if year % 400 ==0:\n",
    "                leap = True\n",
    "    return leap\n",
    "\n",
    "year = int(input())\n",
    "print(is_leap(year))"
   ]
  },
  {
   "cell_type": "markdown",
   "metadata": {},
   "source": [
    "### Print Function"
   ]
  },
  {
   "cell_type": "code",
   "execution_count": null,
   "metadata": {},
   "outputs": [],
   "source": [
    "if __name__ == '__main__':\n",
    "    n = int(input())\n",
    "    a = \"\"\n",
    "    for i in range(1,n+1):\n",
    "       a = a+str(i)\n",
    "    print(a)"
   ]
  },
  {
   "cell_type": "markdown",
   "metadata": {},
   "source": [
    "## Data Types"
   ]
  },
  {
   "cell_type": "markdown",
   "metadata": {},
   "source": [
    "### List Comprehensions"
   ]
  },
  {
   "cell_type": "code",
   "execution_count": null,
   "metadata": {},
   "outputs": [],
   "source": [
    "if __name__ == '__main__':\n",
    "    x = int(input())\n",
    "    y = int(input())\n",
    "    z = int(input())\n",
    "    n = int(input())\n",
    "    # Three for loops annidated such that they are making a list of lists\n",
    "    print([[i, j, k] for i in range(x+1) for j in range(y+1) for k in range(z+1) if i+j+k != n])"
   ]
  },
  {
   "cell_type": "markdown",
   "metadata": {},
   "source": [
    "### Find the Runner-Up Score!"
   ]
  },
  {
   "cell_type": "code",
   "execution_count": null,
   "metadata": {},
   "outputs": [],
   "source": [
    "if __name__ == '__main__':\n",
    "    n = int(input())\n",
    "    arr = map(int, input().split())\n",
    "    \n",
    "    # Convert arr into a list\n",
    "    arr = list(arr)\n",
    "    \n",
    "    # Get arr list without his actual max value\n",
    "    new_arr = [ i for i in arr if i != max(arr)]\n",
    "    print(max(new_arr))\n",
    "    "
   ]
  },
  {
   "cell_type": "markdown",
   "metadata": {},
   "source": [
    "### Nested Lists"
   ]
  },
  {
   "cell_type": "code",
   "execution_count": null,
   "metadata": {},
   "outputs": [],
   "source": [
    "if __name__ == '__main__':\n",
    "    \n",
    "    students_list = []\n",
    "    scores = []\n",
    "    \n",
    "    for _ in range(int(input())):\n",
    "        name = input()\n",
    "        score = float(input())\n",
    "        \n",
    "        # Put data in lists like in the explanation\n",
    "        students_list.append([name, score])\n",
    "        scores.append(score)\n",
    "    \n",
    "    # Find the min score and delete pairs of values (name, score) with min scores from students_list\n",
    "    min_score = min(scores)\n",
    "    scores = [score for score in scores if score != min_score] \n",
    "    students_list = [pair for pair in students_list if pair[1] != min_score]\n",
    "    \n",
    "    # Update value of min_score and find the list of names that has now the min score.\n",
    "    # The min score now is the second lowest score in total\n",
    "    min_score = min(scores)\n",
    "    names = [pair[0] for pair in students_list if pair[1] == min_score]\n",
    "    \n",
    "    # Sort names and print results\n",
    "    names.sort()\n",
    "    for name in names:\n",
    "        print(name)"
   ]
  },
  {
   "cell_type": "markdown",
   "metadata": {},
   "source": [
    "### Finding the percentage"
   ]
  },
  {
   "cell_type": "code",
   "execution_count": null,
   "metadata": {},
   "outputs": [],
   "source": [
    "if __name__ == '__main__':\n",
    "    n = int(input())\n",
    "    student_marks = {}\n",
    "    for _ in range(n):\n",
    "        name, *line = input().split()\n",
    "        scores = list(map(float, line))\n",
    "        student_marks[name] = scores\n",
    "    query_name = input()\n",
    "    \n",
    "    total_sum = 0\n",
    "    for (k,v) in student_marks.items():\n",
    "        if k == query_name:\n",
    "            total_n_scores = len(v)\n",
    "            for score in v:\n",
    "                total_sum += score\n",
    "    average = total_sum/total_n_scores\n",
    "    print(\"%.2f\" % average)"
   ]
  },
  {
   "cell_type": "markdown",
   "metadata": {},
   "source": [
    "### Lists"
   ]
  },
  {
   "cell_type": "code",
   "execution_count": null,
   "metadata": {},
   "outputs": [],
   "source": [
    "if __name__ == '__main__':\n",
    "    N = int(input())\n",
    "    command_list = [input() for i in range(N)]\n",
    "    \n",
    "    # For loop to parse input and do work on the final result_set\n",
    "    result_list = []\n",
    "\n",
    "    for command in command_list:\n",
    "        command = command.split(' ')\n",
    "        if command[0] == 'insert':\n",
    "            result_list.insert(int(command[1]),int(command[2]))\n",
    "        elif command[0] == 'print':\n",
    "            print(result_list)\n",
    "        elif command[0] == 'append':\n",
    "            result_list.append(int(command[1]))\n",
    "        elif command[0] == 'remove':\n",
    "            result_list.remove(int(command[1]))\n",
    "        elif command[0] == 'sort':\n",
    "            result_list.sort()\n",
    "        elif command[0] == 'pop':\n",
    "            result_list.pop()\n",
    "        elif command[0] == 'reverse':\n",
    "            result_list.reverse()\n",
    "        else:\n",
    "            pass"
   ]
  },
  {
   "cell_type": "markdown",
   "metadata": {},
   "source": [
    "### Tuples"
   ]
  },
  {
   "cell_type": "code",
   "execution_count": null,
   "metadata": {},
   "outputs": [],
   "source": [
    "if __name__ == '__main__':\n",
    "    n = int(raw_input())\n",
    "    integer_list = map(int, raw_input().split())\n",
    "    \n",
    "    integer_tuple = tuple(integer_list)\n",
    "    print(hash(integer_tuple))"
   ]
  },
  {
   "cell_type": "markdown",
   "metadata": {},
   "source": [
    "## Strings"
   ]
  },
  {
   "cell_type": "markdown",
   "metadata": {},
   "source": [
    "### sWAP cASE"
   ]
  },
  {
   "cell_type": "code",
   "execution_count": null,
   "metadata": {},
   "outputs": [],
   "source": [
    "def swap_case(s):\n",
    "    return s.swapcase()\n",
    "\n",
    "if __name__ == '__main__':\n",
    "    s = raw_input()\n",
    "    result = swap_case(s)\n",
    "    print result"
   ]
  },
  {
   "cell_type": "markdown",
   "metadata": {},
   "source": [
    "### String Split and Join"
   ]
  },
  {
   "cell_type": "code",
   "execution_count": null,
   "metadata": {},
   "outputs": [],
   "source": [
    "def split_and_join(line):\n",
    "    string = line.split(' ')\n",
    "    line = '-'.join(string)\n",
    "    return line\n",
    "\n",
    "if __name__ == '__main__':\n",
    "    line = raw_input()\n",
    "    result = split_and_join(line)\n",
    "    print result"
   ]
  },
  {
   "cell_type": "markdown",
   "metadata": {},
   "source": [
    "### What's Your Name?"
   ]
  },
  {
   "cell_type": "code",
   "execution_count": null,
   "metadata": {},
   "outputs": [],
   "source": [
    "def print_full_name(first, last):\n",
    "    print('Hello ' + first + ' ' + last + '! You just delved into python.')\n",
    "\n",
    "if __name__ == '__main__':\n",
    "    first_name = raw_input()\n",
    "    last_name = raw_input()\n",
    "    print_full_name(first_name, last_name)"
   ]
  },
  {
   "cell_type": "markdown",
   "metadata": {},
   "source": [
    "### Mutations"
   ]
  },
  {
   "cell_type": "code",
   "execution_count": null,
   "metadata": {},
   "outputs": [],
   "source": [
    "def mutate_string(string, position, character):\n",
    "    return string[:position] + character + string[position+1:]\n",
    "\n",
    "if __name__ == '__main__':\n",
    "    s = raw_input()\n",
    "    i, c = raw_input().split()\n",
    "    s_new = mutate_string(s, int(i), c)\n",
    "    print s_new"
   ]
  },
  {
   "cell_type": "markdown",
   "metadata": {},
   "source": [
    "### Find a string"
   ]
  },
  {
   "cell_type": "code",
   "execution_count": null,
   "metadata": {},
   "outputs": [],
   "source": [
    "def count_substring(string, sub_string):\n",
    "    counter = 0\n",
    "    for i in range(len(string)):\n",
    "        # Analyze every substrings one step by step\n",
    "        if string[i:i+len(sub_string)] == sub_string:\n",
    "            counter += 1\n",
    "    return counter\n",
    "\n",
    "if __name__ == '__main__':\n",
    "    string = input().strip()\n",
    "    sub_string = input().strip()\n",
    "    \n",
    "    count = count_substring(string, sub_string)\n",
    "    print(count)"
   ]
  },
  {
   "cell_type": "markdown",
   "metadata": {},
   "source": [
    "### String Validators"
   ]
  },
  {
   "cell_type": "code",
   "execution_count": null,
   "metadata": {},
   "outputs": [],
   "source": [
    "if __name__ == '__main__':\n",
    "    s = input()\n",
    "    \n",
    "    alphanumeric = False\n",
    "    alphabetical = False\n",
    "    digits = False\n",
    "    lower = False\n",
    "    upper = False\n",
    "    \n",
    "    # I must verify for all char in the string, becouse it asks not all but any\n",
    "    for char in s:\n",
    "        if char.isalnum() == True:\n",
    "            alphanumeric = True\n",
    "        if char.isalpha() == True:\n",
    "            alphabetical = True\n",
    "        if char.isdigit() == True:\n",
    "            digits = True\n",
    "        if char.islower() == True:\n",
    "            lower = True\n",
    "        if char.isupper() == True:\n",
    "            upper = True\n",
    "            \n",
    "    print(alphanumeric)\n",
    "    print(alphabetical)\n",
    "    print(digits)\n",
    "    print(lower)\n",
    "    print(upper)"
   ]
  },
  {
   "cell_type": "markdown",
   "metadata": {},
   "source": [
    "### Text Alignment"
   ]
  },
  {
   "cell_type": "code",
   "execution_count": null,
   "metadata": {},
   "outputs": [],
   "source": [
    "#Replace all ______ with rjust, ljust or center. \n",
    "\n",
    "thickness = int(input()) #This must be an odd number\n",
    "c = 'H'\n",
    "\n",
    "#Top Cone\n",
    "for i in range(thickness):\n",
    "    print((c*i).rjust(thickness-1)+c+(c*i).ljust(thickness-1))\n",
    "\n",
    "#Top Pillars\n",
    "for i in range(thickness+1):\n",
    "    print((c*thickness).center(thickness*2)+(c*thickness).center(thickness*6))\n",
    "\n",
    "#Middle Belt\n",
    "for i in range((thickness+1)//2):\n",
    "    print((c*thickness*5).center(thickness*6))    \n",
    "\n",
    "#Bottom Pillars\n",
    "for i in range(thickness+1):\n",
    "    print((c*thickness).center(thickness*2)+(c*thickness).center(thickness*6))    \n",
    "\n",
    "#Bottom Cone\n",
    "for i in range(thickness):\n",
    "    print(((c*(thickness-i-1)).rjust(thickness)+c+(c*(thickness-i-1)).ljust(thickness)).rjust(thickness*6))"
   ]
  },
  {
   "cell_type": "markdown",
   "metadata": {},
   "source": [
    "### Text Wrap"
   ]
  },
  {
   "cell_type": "code",
   "execution_count": null,
   "metadata": {},
   "outputs": [],
   "source": [
    "import textwrap\n",
    "\n",
    "def wrap(string, max_width):\n",
    "    result = \"\\n\".join(textwrap.wrap(string, max_width))\n",
    "    return result\n",
    "\n",
    "if __name__ == '__main__':\n",
    "    string, max_width = input(), int(input())\n",
    "    result = wrap(string, max_width)\n",
    "    print(result)"
   ]
  },
  {
   "cell_type": "markdown",
   "metadata": {},
   "source": [
    "### Designer Door Mat"
   ]
  },
  {
   "cell_type": "code",
   "execution_count": null,
   "metadata": {},
   "outputs": [],
   "source": [
    "# Take Input\n",
    "n, m = map(int,input().split())\n",
    "\n",
    "# Start drowing pattern\n",
    "drowing = [('.|.'*(2*i + 1)).center(m, '-') for i in range(n//2)]\n",
    "\n",
    "# Printing pattern going to next line each time\n",
    "print('\\n'.join(drowing + ['WELCOME'.center(m, '-')] + drowing[::-1]))"
   ]
  },
  {
   "cell_type": "markdown",
   "metadata": {},
   "source": [
    "### String Formatting"
   ]
  },
  {
   "cell_type": "code",
   "execution_count": null,
   "metadata": {},
   "outputs": [],
   "source": [
    "def print_formatted(number):\n",
    "    width = len(str(bin(number)).replace('0b',''))\n",
    "\n",
    "    for i in range(1, number+1):\n",
    "        decimal = str(i).rjust(width, ' ')\n",
    "        octal = oct(int(i)).replace('0','', 1).replace('o','').rjust(width, ' ')\n",
    "        hexadecimal = hex(int(i)).replace('0x','').upper().rjust(width, ' ')\n",
    "        binary = bin(int(i)).replace('0b','').rjust(width, ' ')\n",
    "        print(decimal, octal, hexadecimal, binary)\n",
    "\n",
    "if __name__ == '__main__':\n",
    "    n = int(input())\n",
    "    print_formatted(n)"
   ]
  },
  {
   "cell_type": "markdown",
   "metadata": {},
   "source": [
    "### Alphabet Rangoli"
   ]
  },
  {
   "cell_type": "code",
   "execution_count": null,
   "metadata": {},
   "outputs": [],
   "source": [
    "def print_rangoli(size):\n",
    "    alpha = 'abcdefghijklmnopqrstuvwxyz'\n",
    "    L = []\n",
    "    for i in range(size):\n",
    "        s = \"-\".join(alpha[i:n])\n",
    "        L.append((s[::-1]+s[1:]).center(4*n-3, \"-\"))\n",
    "    print('\\n'.join(L[:0:-1]+L))\n",
    "\n",
    "if __name__ == '__main__':\n",
    "    n = int(input())\n",
    "    print_rangoli(n)"
   ]
  },
  {
   "cell_type": "markdown",
   "metadata": {},
   "source": [
    "### Capitalize!"
   ]
  },
  {
   "cell_type": "code",
   "execution_count": null,
   "metadata": {},
   "outputs": [],
   "source": [
    "#!/bin/python3, imported by defaul by the excercise even though i didn't use.\n",
    "\n",
    "import math\n",
    "import os\n",
    "import random\n",
    "import re\n",
    "import sys\n",
    "\n",
    "# Complete the solve function below.\n",
    "def solve(s):\n",
    "    result = ''\n",
    "    \n",
    "    # Obtain single words in an array\n",
    "    words = s.split(' ')\n",
    "    \n",
    "    # For each word capitalize first letter, add a space and add the string to the result\n",
    "    for word in words:\n",
    "        word = word.capitalize()\n",
    "        add = word + ' '\n",
    "        result += add\n",
    "    return result\n",
    "        \n",
    "\n",
    "if __name__ == '__main__':\n",
    "    fptr = open(os.environ['OUTPUT_PATH'], 'w')\n",
    "\n",
    "    s = input()\n",
    "\n",
    "    result = solve(s)\n",
    "\n",
    "    fptr.write(result + '\\n')\n",
    "\n",
    "    fptr.close()\n"
   ]
  },
  {
   "cell_type": "markdown",
   "metadata": {},
   "source": [
    "### The Minion Game"
   ]
  },
  {
   "cell_type": "code",
   "execution_count": null,
   "metadata": {},
   "outputs": [],
   "source": [
    "def minion_game(string):\n",
    "    stuart_points = 0\n",
    "    kevin_points = 0\n",
    "    consonants = 'BCDFGHJKLMNPQRSTVWXYZ'\n",
    "    index = 0\n",
    "    for i in range(len(string)):\n",
    "        if string[i] in consonants:\n",
    "            # I give point becouse of the letter and 1 point for each consecutive letter \n",
    "            stuart_points += len(string)-i\n",
    "        else:\n",
    "            kevin_points += len(string)-i\n",
    "            \n",
    "    # Check total points     \n",
    "    if (stuart_points > kevin_points):\n",
    "        print('Stuart ' + str(stuart_points))\n",
    "    elif (kevin_points > stuart_points):\n",
    "        print('Kevin ' + str(kevin_points))\n",
    "    else:\n",
    "        print('Draw')\n",
    "            \n",
    "if __name__ == '__main__':\n",
    "    s = input()\n",
    "    minion_game(s)"
   ]
  },
  {
   "cell_type": "markdown",
   "metadata": {},
   "source": [
    "### Merge the Tools!"
   ]
  },
  {
   "cell_type": "code",
   "execution_count": null,
   "metadata": {},
   "outputs": [],
   "source": [
    "def merge_the_tools(string, k):\n",
    "    while string:\n",
    "        \n",
    "        # Divide substrings\n",
    "        s = string[0:k]\n",
    "        to_print = ''\n",
    "        for c in s:\n",
    "            # Add the character only if is not already present\n",
    "            if c not in to_print:\n",
    "                to_print += c\n",
    "        print(to_print)\n",
    "        \n",
    "        # Delete substring already analized\n",
    "        string = string[k:]\n",
    "\n",
    "if __name__ == '__main__':\n",
    "    string, k = input(), int(input())\n",
    "    merge_the_tools(string, k)"
   ]
  },
  {
   "cell_type": "markdown",
   "metadata": {},
   "source": [
    "### Find a string"
   ]
  },
  {
   "cell_type": "code",
   "execution_count": null,
   "metadata": {},
   "outputs": [],
   "source": [
    "def count_substring(string, sub_string):\n",
    "    counter = 0\n",
    "    for i in range(len(string)):\n",
    "        # Analyze every substrings one step by step\n",
    "        if string[i:i+len(sub_string)] == sub_string:\n",
    "            counter += 1\n",
    "    return counter\n",
    "\n",
    "if __name__ == '__main__':\n",
    "    string = input().strip()\n",
    "    sub_string = input().strip()\n",
    "    \n",
    "    count = count_substring(string, sub_string)\n",
    "    print(count)"
   ]
  },
  {
   "cell_type": "markdown",
   "metadata": {},
   "source": [
    "# Sets"
   ]
  },
  {
   "cell_type": "markdown",
   "metadata": {},
   "source": [
    "### Introduction to Sets"
   ]
  },
  {
   "cell_type": "code",
   "execution_count": null,
   "metadata": {},
   "outputs": [],
   "source": [
    "def average(array):\n",
    "    set_converted  = set(array)\n",
    "    return sum(set_converted)/len(set_converted)\n",
    "\n",
    "if __name__ == '__main__':\n",
    "    n = int(input())\n",
    "    arr = list(map(int, input().split()))\n",
    "    result = average(arr)\n",
    "    print(result)"
   ]
  },
  {
   "cell_type": "markdown",
   "metadata": {},
   "source": [
    "### Symmetric Difference"
   ]
  },
  {
   "cell_type": "code",
   "execution_count": null,
   "metadata": {},
   "outputs": [],
   "source": [
    "# Symmetric difference is the union - intersection\n",
    "\n",
    "# Take inputs\n",
    "m = int(input())\n",
    "set_a = set(map(int, input().split()))\n",
    "n = int(input())\n",
    "set_b = set(map(int, input().split()))\n",
    "\n",
    "# Converting to a list and sort it\n",
    "final_list = list(set_a.symmetric_difference(set_b))\n",
    "final_list.sort()\n",
    "for num in final_list:\n",
    "    print(num)"
   ]
  },
  {
   "cell_type": "markdown",
   "metadata": {},
   "source": [
    "### Set .add()"
   ]
  },
  {
   "cell_type": "code",
   "execution_count": null,
   "metadata": {},
   "outputs": [],
   "source": [
    "# For each country add it to a set\n",
    "n = int(input())\n",
    "final_set = set()\n",
    "for i in range (n):\n",
    "    country = str(input())\n",
    "    final_set.add(country)\n",
    "print(len(final_set))"
   ]
  },
  {
   "cell_type": "markdown",
   "metadata": {},
   "source": [
    "### Set .discard(), .remove() & .pop()"
   ]
  },
  {
   "cell_type": "code",
   "execution_count": null,
   "metadata": {},
   "outputs": [],
   "source": [
    "n = int(input())\n",
    "s = set(map(int, input().split()))\n",
    "\n",
    "# Get inputs\n",
    "n_commands = int(input())\n",
    "command_list = [input() for i in range(n_commands)]\n",
    "\n",
    "# For loop to parse input and do work on the final result_set\n",
    "result_set = s\n",
    "\n",
    "for command in command_list:\n",
    "    command = command.split(' ')\n",
    "    if command[0] == 'pop':\n",
    "        result_set.pop()\n",
    "    elif command[0] == 'remove':\n",
    "        result_set.remove(int(command[1]))\n",
    "    elif command[0] == 'discard':\n",
    "        result_set.discard(int(command[1]))\n",
    "    else:\n",
    "        pass\n",
    "print(sum(result_set))\n"
   ]
  },
  {
   "cell_type": "markdown",
   "metadata": {},
   "source": [
    "### Set .union() Operation"
   ]
  },
  {
   "cell_type": "code",
   "execution_count": null,
   "metadata": {},
   "outputs": [],
   "source": [
    "# Take inputs\n",
    "n_en = int(input())\n",
    "en_set = set(map(int, input().split()))\n",
    "n_fr = int(input())\n",
    "fr_set = set(map(int, input().split()))\n",
    "\n",
    "# Do union\n",
    "union_set = en_set.union(fr_set)\n",
    "print(len(union_set))"
   ]
  },
  {
   "cell_type": "markdown",
   "metadata": {},
   "source": [
    "### Set .intersection() Operation"
   ]
  },
  {
   "cell_type": "code",
   "execution_count": null,
   "metadata": {},
   "outputs": [],
   "source": [
    "# Take inputs\n",
    "n = int(input())\n",
    "en_set = set(map(int, input().split()))\n",
    "b = int(input())\n",
    "fr_set = set(map(int, input().split()))\n",
    "\n",
    "# Do intersection\n",
    "intersect = en_set.intersection(fr_set)\n",
    "print(len(intersect))"
   ]
  },
  {
   "cell_type": "markdown",
   "metadata": {},
   "source": [
    "### Set .difference() Operation"
   ]
  },
  {
   "cell_type": "code",
   "execution_count": null,
   "metadata": {},
   "outputs": [],
   "source": [
    "# Take inputs\n",
    "n = int(input())\n",
    "en_set = set(map(int, input().split()))\n",
    "b = int(input())\n",
    "fr_set = set(map(int, input().split()))\n",
    "\n",
    "# Do difference\n",
    "difference = en_set.difference(fr_set)\n",
    "print(len(difference))"
   ]
  },
  {
   "cell_type": "markdown",
   "metadata": {},
   "source": [
    "### Set .symmetric_difference() Operation"
   ]
  },
  {
   "cell_type": "code",
   "execution_count": null,
   "metadata": {},
   "outputs": [],
   "source": [
    "# Take inputs\n",
    "n = int(input())\n",
    "en_set = set(map(int, input().split()))\n",
    "b = int(input())\n",
    "fr_set = set(map(int, input().split()))\n",
    "\n",
    "# Do symmetric difference\n",
    "symmetric_difference = en_set.symmetric_difference(fr_set)\n",
    "print(len(symmetric_difference))"
   ]
  },
  {
   "cell_type": "markdown",
   "metadata": {},
   "source": [
    "### Set Mutations"
   ]
  },
  {
   "cell_type": "code",
   "execution_count": null,
   "metadata": {},
   "outputs": [],
   "source": [
    "# Take inputs\n",
    "n = int(input())\n",
    "set_a = set(set(map(int, input().split())))\n",
    "\n",
    "n_commands = int(input())\n",
    "command = []\n",
    "\n",
    "# For each command verify which command it is, then execute and reset command for next iteration\n",
    "for i in range(n_commands):\n",
    "    command = input().split()\n",
    "    set_b = set(map(int, input().split()))\n",
    "    if command[0] == 'update':\n",
    "        set_a.update(set_b)\n",
    "    elif command[0] == 'intersection_update':\n",
    "        set_a.intersection_update(set_b)\n",
    "    elif command[0] == 'difference_update':\n",
    "        set_a.difference_update(set_b)\n",
    "    elif command[0] == 'symmetric_difference_update':\n",
    "        set_a.symmetric_difference_update(set_b)\n",
    "    else:\n",
    "        pass\n",
    "    command = []\n",
    "print(sum(set_a))"
   ]
  },
  {
   "cell_type": "markdown",
   "metadata": {},
   "source": [
    "### The Captain's Room"
   ]
  },
  {
   "cell_type": "code",
   "execution_count": null,
   "metadata": {},
   "outputs": [],
   "source": [
    "k = input();\n",
    "# All rooms in a list\n",
    "rooms = input().split();\n",
    "\n",
    "# Create a set which will contain all rooms\n",
    "s_all = set();\n",
    "# Create a set which will contain only repeated rooms\n",
    "s_repeated = set();\n",
    "\n",
    "for room in rooms:\n",
    "    if  room in s_all:\n",
    "        s_repeated.add(room);\n",
    "    else:\n",
    "        s_all.add(room);\n",
    "result = s_all.difference(s_repeated);\n",
    "\n",
    "print(result.pop())"
   ]
  },
  {
   "cell_type": "markdown",
   "metadata": {},
   "source": [
    "### Check Subset"
   ]
  },
  {
   "cell_type": "code",
   "execution_count": null,
   "metadata": {},
   "outputs": [],
   "source": [
    "# Take inputs e verify\n",
    "n = int(input())\n",
    "\n",
    "for i in range(n):\n",
    "    a = input()\n",
    "    set_1 = set(map(int, input().split()))\n",
    "    b = input()\n",
    "    set_2 = set(map(int, input().split()))\n",
    "    print(set_1.issubset(set_2))"
   ]
  },
  {
   "cell_type": "markdown",
   "metadata": {},
   "source": [
    "### Check Strict Superset"
   ]
  },
  {
   "cell_type": "code",
   "execution_count": null,
   "metadata": {},
   "outputs": [],
   "source": [
    "# Take sets and verify conditions\n",
    "set_1 = set(map(int, input().split()))\n",
    "n = int(input())\n",
    "verify = True\n",
    "\n",
    "for i in range(n):\n",
    "    set_2 = set(map(int, input().split()))\n",
    "    verify = verify and set_1.issuperset(set_2)\n",
    "print(verify)"
   ]
  },
  {
   "cell_type": "markdown",
   "metadata": {},
   "source": [
    "### No Idea!"
   ]
  },
  {
   "cell_type": "code",
   "execution_count": null,
   "metadata": {},
   "outputs": [],
   "source": [
    "# Take input and calculate happiness \n",
    "n_m = input().split()\n",
    "arr = map(int, input().split())\n",
    "A = set(map(int, input().split()))\n",
    "B = set(map(int, input().split()))\n",
    "happiness = 0\n",
    "\n",
    "for elem in arr:\n",
    "    if elem in A:\n",
    "        happiness += 1\n",
    "    if elem in B:\n",
    "        happiness -= 1\n",
    "    else:\n",
    "        pass\n",
    "print(happiness)"
   ]
  },
  {
   "cell_type": "markdown",
   "metadata": {},
   "source": [
    "## Collections"
   ]
  },
  {
   "cell_type": "markdown",
   "metadata": {},
   "source": [
    "### collections.Counter()"
   ]
  },
  {
   "cell_type": "code",
   "execution_count": null,
   "metadata": {},
   "outputs": [],
   "source": [
    "from collections import Counter\n",
    "\n",
    "n = int(input())\n",
    "shop = Counter(map(int, input().split()))\n",
    "n_customers = int(input())\n",
    "result = 0\n",
    "\n",
    "for i in range(n_customers):\n",
    "    size, price = map(int, input().split())\n",
    "    # If the size of shoe is present i add price to the result and subtract the size from counter\n",
    "    if shop[size]:\n",
    "        result += price\n",
    "        shop[size] -= 1\n",
    "print(result)"
   ]
  },
  {
   "cell_type": "markdown",
   "metadata": {},
   "source": [
    "### DefaultDict Tutorial"
   ]
  },
  {
   "cell_type": "code",
   "execution_count": null,
   "metadata": {},
   "outputs": [],
   "source": [
    "from collections import defaultdict\n",
    "\n",
    "d = defaultdict(list)\n",
    "\n",
    "n, m = map(int, input().split())\n",
    "\n",
    "# Put all values of group a in the defaultdict like keys and put their indexes like values\n",
    "for i in range(1,n+1):\n",
    "    d[input()].append(str(i))\n",
    "    \n",
    "# Print for all char of group b the indexes if it is present, otherwise -1\n",
    "for i in range(m):\n",
    "    print (' '.join(d[input()]) or -1)"
   ]
  },
  {
   "cell_type": "markdown",
   "metadata": {},
   "source": [
    "### Collections.namedtuple()"
   ]
  },
  {
   "cell_type": "code",
   "execution_count": null,
   "metadata": {},
   "outputs": [],
   "source": [
    "from collections import namedtuple\n",
    "\n",
    "n = int(input())\n",
    "attributes = input().split()\n",
    "\n",
    "# Create a namedtuple for students\n",
    "total_marks = 0\n",
    "for i in range(n):\n",
    "    students = namedtuple('student',attributes)\n",
    "    # Take attributes \n",
    "    attribute1, attribute2, attribute3, attribute4 = input().split()\n",
    "    # Create each student\n",
    "    student = students(attribute1, attribute2, attribute3, attribute4)\n",
    "    # Sum all marks\n",
    "    total_marks += int(student.MARKS)\n",
    "# Print average     \n",
    "print('{:.2f}'.format(total_marks/n))"
   ]
  },
  {
   "cell_type": "markdown",
   "metadata": {},
   "source": [
    "### Collections.OrderedDict()"
   ]
  },
  {
   "cell_type": "code",
   "execution_count": null,
   "metadata": {},
   "outputs": [],
   "source": [
    "from collections import OrderedDict\n",
    "\n",
    "d = OrderedDict()\n",
    "\n",
    "n = int(input())\n",
    "\n",
    "for i in range(n):\n",
    "    # Take inputs\n",
    "    item, space, quantity = input().rpartition(' ')\n",
    "    # Make sum of quantity\n",
    "    d[item] = d.get(item, 0) + int(quantity)\n",
    "    \n",
    "for item, quantity in d.items():\n",
    "    print(item, quantity)"
   ]
  },
  {
   "cell_type": "markdown",
   "metadata": {},
   "source": [
    "### Word Order"
   ]
  },
  {
   "cell_type": "code",
   "execution_count": null,
   "metadata": {},
   "outputs": [],
   "source": [
    "from collections import Counter, OrderedDict\n",
    "\n",
    "# Counter that remembers the order of elements\n",
    "class OrderedCounter(Counter, OrderedDict):\n",
    "    pass\n",
    "\n",
    "n = int(input())    \n",
    "    \n",
    "d = OrderedCounter(input() for i in range(n))\n",
    "# Lenght is number of distinct word\n",
    "print(len(d))\n",
    "# Values are number of times that each string in order appear\n",
    "print(*d.values())"
   ]
  },
  {
   "cell_type": "markdown",
   "metadata": {},
   "source": [
    "### Collections.deque()"
   ]
  },
  {
   "cell_type": "code",
   "execution_count": null,
   "metadata": {},
   "outputs": [],
   "source": [
    "from collections import deque\n",
    "\n",
    "d = deque()\n",
    "n = int(input())\n",
    "\n",
    "# For each get the name of the command and eventually function input \n",
    "for i in range(n):\n",
    "    command = input().split()\n",
    "    if len(command) > 1:\n",
    "        if command[0] == 'append':\n",
    "            d.append(command[1])\n",
    "        elif command[0] == 'appendleft':\n",
    "            d.appendleft(command[1])\n",
    "    else:\n",
    "        if command[0] == 'pop':\n",
    "            d.pop()\n",
    "        elif command[0] == 'popleft':\n",
    "            d.popleft()\n",
    "    command = []\n",
    "    \n",
    "# Print the results\n",
    "print(*[element for element in d])"
   ]
  },
  {
   "cell_type": "markdown",
   "metadata": {},
   "source": [
    "### Company Logo"
   ]
  },
  {
   "cell_type": "code",
   "execution_count": null,
   "metadata": {},
   "outputs": [],
   "source": [
    "from collections import Counter, OrderedDict\n",
    "\n",
    "class OrderedCounter(Counter):\n",
    "    pass\n",
    "\n",
    "[print(*char) for char in OrderedCounter(sorted(input())).most_common(3)]\n"
   ]
  },
  {
   "cell_type": "markdown",
   "metadata": {},
   "source": [
    "### Piling Up!"
   ]
  },
  {
   "cell_type": "code",
   "execution_count": null,
   "metadata": {},
   "outputs": [],
   "source": [
    "from collections import deque\n",
    "\n",
    "# Take inputs\n",
    "for _ in range(int(input())):  \n",
    "    _, d =input(), deque(map(int, input().split()))\n",
    "    \n",
    "# The deque sorted and then reversed is the vertical pile that we want\n",
    "    for cube in reversed(sorted(d)):\n",
    "        # If last element is the one in the deque sorted and reversed -> we have to pop from right\n",
    "        if d[-1] == cube:\n",
    "            d.pop()\n",
    "            # Instead if first element is the one in the deque sorted and reversed -> we have to pop from left\n",
    "        elif d[0] == cube:\n",
    "            d.popleft()\n",
    "        # If the element is neither, we print no and stop the program\n",
    "        else:\n",
    "            print('No')\n",
    "            break\n",
    "    else:\n",
    "        print('Yes')"
   ]
  },
  {
   "cell_type": "markdown",
   "metadata": {},
   "source": [
    "## Date and Time"
   ]
  },
  {
   "cell_type": "markdown",
   "metadata": {},
   "source": [
    "### Calendar Module"
   ]
  },
  {
   "cell_type": "code",
   "execution_count": null,
   "metadata": {},
   "outputs": [],
   "source": [
    "import calendar\n",
    "\n",
    "month, day, year = map(int,input().split())\n",
    "\n",
    "print((calendar.day_name[calendar.weekday(year, month, day)]).upper())"
   ]
  },
  {
   "cell_type": "markdown",
   "metadata": {},
   "source": [
    "### Time Delta"
   ]
  },
  {
   "cell_type": "code",
   "execution_count": null,
   "metadata": {},
   "outputs": [],
   "source": [
    "import datetime\n",
    "\n",
    "# Complete the time_delta function below.\n",
    "def time_delta(t1, t2):\n",
    "    # Parsing the two dates\n",
    "    first = datetime.datetime.strptime(t1,'%a %d %b %Y %H:%M:%S %z')\n",
    "    second = datetime.datetime.strptime(t2,'%a %d %b %Y %H:%M:%S %z')\n",
    "    \n",
    "    # Return result\n",
    "    return str(abs(int((first-second).total_seconds())))\n",
    "\n",
    "if __name__ == '__main__':\n",
    "\n",
    "    t = int(input())\n",
    "\n",
    "    for t_itr in range(t):\n",
    "        t1 = input()\n",
    "\n",
    "        t2 = input()\n",
    "\n",
    "        delta = time_delta(t1, t2)\n",
    "        \n",
    "        print(delta)\n"
   ]
  },
  {
   "cell_type": "markdown",
   "metadata": {},
   "source": [
    "## Exceptions"
   ]
  },
  {
   "cell_type": "markdown",
   "metadata": {},
   "source": [
    "### Exceptions"
   ]
  },
  {
   "cell_type": "code",
   "execution_count": null,
   "metadata": {},
   "outputs": [],
   "source": [
    "# Take inputs and then manage exception with try-catch statement\n",
    "n = int(input())\n",
    "for i in range(n):\n",
    "    try:\n",
    "        num1, num2 = map(int,input().split())\n",
    "        print(num1//num2)\n",
    "    except Exception as e:\n",
    "        print(\"Error Code:\",e)"
   ]
  },
  {
   "cell_type": "markdown",
   "metadata": {},
   "source": [
    "## Built-Ins"
   ]
  },
  {
   "cell_type": "markdown",
   "metadata": {},
   "source": [
    "### Zipped!"
   ]
  },
  {
   "cell_type": "code",
   "execution_count": null,
   "metadata": {},
   "outputs": [],
   "source": [
    "# Take inputs\n",
    "n_students, n_votes = map(int, input().split()) \n",
    "\n",
    "table = []\n",
    "for _ in range(n_votes):\n",
    "    table.append( map(float, input().split()) ) \n",
    "\n",
    "# For each position of the table in the zip calculate the average\n",
    "for position in zip(*table): \n",
    "    print( sum(position)/n_votes)"
   ]
  },
  {
   "cell_type": "markdown",
   "metadata": {},
   "source": [
    "### Athlete Sort"
   ]
  },
  {
   "cell_type": "code",
   "execution_count": null,
   "metadata": {},
   "outputs": [],
   "source": [
    "if __name__ == '__main__':\n",
    "    nm = input().split()\n",
    "\n",
    "    n = int(nm[0])\n",
    "\n",
    "    m = int(nm[1])\n",
    "\n",
    "    arr = []\n",
    "\n",
    "    for _ in range(n):\n",
    "        arr.append(list(map(int, input().rstrip().split())))\n",
    "\n",
    "    k = int(input())\n",
    "    \n",
    "    # Sort list on a particular attribute\n",
    "    result = sorted(arr, key = lambda x: x[k])\n",
    "    \n",
    "    # Print results \n",
    "    for array in result:\n",
    "        for num in array:\n",
    "            print(num, end =\" \")\n",
    "        print()\n"
   ]
  },
  {
   "cell_type": "markdown",
   "metadata": {},
   "source": [
    "### ginortS"
   ]
  },
  {
   "cell_type": "code",
   "execution_count": null,
   "metadata": {},
   "outputs": [],
   "source": [
    "import string\n",
    "\n",
    "# Sort string with a personalized order (key argument of sorted() function)\n",
    "print(*sorted(input(), key=(string.ascii_letters + '1357902468').index), sep='')"
   ]
  },
  {
   "cell_type": "markdown",
   "metadata": {},
   "source": [
    "## Python Functionals"
   ]
  },
  {
   "cell_type": "markdown",
   "metadata": {},
   "source": [
    "### Map and Lambda Function"
   ]
  },
  {
   "cell_type": "code",
   "execution_count": null,
   "metadata": {},
   "outputs": [],
   "source": [
    "cube = lambda x: x*x*x\n",
    "\n",
    "def fibonacci(n):\n",
    "    fib = [0,1]\n",
    "    for i in range(2,n):\n",
    "        # Sum of the 2 previous elements\n",
    "        fib.append(fib[i-2] + fib[i-1])\n",
    "    return(fib[0:n])\n",
    "\n",
    "if __name__ == '__main__':\n",
    "    n = int(input())\n",
    "    print(list(map(cube, fibonacci(n))))"
   ]
  },
  {
   "cell_type": "markdown",
   "metadata": {},
   "source": [
    "## Regex and Parsing challenges"
   ]
  },
  {
   "cell_type": "markdown",
   "metadata": {},
   "source": [
    "### Detect Floating Point Number"
   ]
  },
  {
   "cell_type": "code",
   "execution_count": null,
   "metadata": {},
   "outputs": [],
   "source": [
    "import re\n",
    "\n",
    "for _ in range(int(input())):\n",
    "    # String that starts with - or +\n",
    "    # Then we expect digits between 0 and 9\n",
    "    # Then we have necessarly a dot\n",
    "    # Then again digits\n",
    "    # And the end\n",
    "    match = re.match(r'^[-+]?[0-9]*\\.[0-9]+$', input())\n",
    "    \n",
    "    if match == None:\n",
    "        print(\"False\")\n",
    "    else:\n",
    "        print(\"True\")"
   ]
  },
  {
   "cell_type": "markdown",
   "metadata": {},
   "source": [
    "### Re.split()"
   ]
  },
  {
   "cell_type": "code",
   "execution_count": null,
   "metadata": {},
   "outputs": [],
   "source": [
    "regex_pattern = r\"[,,.]\" # I can have \",\" or \".\"\n",
    "\n",
    "import re\n",
    "print(\"\\n\".join(re.split(regex_pattern, input())))"
   ]
  },
  {
   "cell_type": "markdown",
   "metadata": {},
   "source": [
    "### Group(), Groups() & Groupdict()\n"
   ]
  },
  {
   "cell_type": "code",
   "execution_count": null,
   "metadata": {},
   "outputs": [],
   "source": [
    "import re\n",
    "\n",
    "# I need character or digit but repeated more then 1 time\n",
    "m = re.search(r'([a-zA-Z0-9])\\1+', input())\n",
    "\n",
    "# Print group 1 that is the unique that has to exist, otherwise print -1\n",
    "print(m.group(1) if m else -1)"
   ]
  },
  {
   "cell_type": "markdown",
   "metadata": {},
   "source": [
    "### Re.findall() & Re.finditer()"
   ]
  },
  {
   "cell_type": "code",
   "execution_count": null,
   "metadata": {},
   "outputs": [],
   "source": [
    "import re\n",
    "\n",
    "# Before must have consonant, 2 or plus vowels, after must be also consonant\n",
    "pattern = r'(?<=[qwrtypsdfghjklzxcvbnmQWRTYPSDFGHJKLZXCVBNM])([aeiouAEIOU]{2,})(?=[qwrtypsdfghjklzxcvbnmQWRTYPSDFGHJKLZXCVBNM])'\n",
    "\n",
    "arr = re.findall(pattern,input())\n",
    "\n",
    "if arr == []:\n",
    "    print(-1)\n",
    "else:\n",
    "    for string in arr:\n",
    "        print(string)"
   ]
  },
  {
   "cell_type": "markdown",
   "metadata": {},
   "source": [
    "### Re.start() & Re.end()"
   ]
  },
  {
   "cell_type": "code",
   "execution_count": null,
   "metadata": {},
   "outputs": [],
   "source": [
    "import re\n",
    "\n",
    "s = input()\n",
    "k = input()\n",
    "\n",
    "# If substring k is in s, apply regex and format the string, printing indexes, else print (-1, -1)\n",
    "if k in s:\n",
    "    print(*[(i.start(), (i.start()+len(k)-1)) for i in re.finditer(r'(?={})'.format(k), s)], sep='\\n')\n",
    "else:\n",
    "    print('(-1, -1)')"
   ]
  },
  {
   "cell_type": "markdown",
   "metadata": {},
   "source": [
    "### Regex Substitution"
   ]
  },
  {
   "cell_type": "code",
   "execution_count": null,
   "metadata": {},
   "outputs": [],
   "source": [
    "import re\n",
    "\n",
    "for _ in range(int(input())):\n",
    "    line = input()\n",
    "    \n",
    "    # Print line in which replace && and || only if they have one or more space to their right and to their left \n",
    "    print(re.sub(r'(?<= )(&&|\\|\\|)(?= )', lambda x: 'and' if x.group() == '&&' else 'or', line))"
   ]
  },
  {
   "cell_type": "markdown",
   "metadata": {},
   "source": [
    "### Validating Roman Numerals"
   ]
  },
  {
   "cell_type": "code",
   "execution_count": null,
   "metadata": {},
   "outputs": [],
   "source": [
    "# Max 3 M for thousands\n",
    "thousand = 'M{0,3}'\n",
    "\n",
    "# C followed by M or D, or D with C from 0 to 3 times\n",
    "hundred = '(C[MD]|D?C{0,3})'\n",
    "\n",
    "# X followed by C or L, or L with X from 0 to 3 times \n",
    "ten = '(X[CL]|L?X{0,3})'\n",
    "\n",
    "# I followed by V or X, or V with I from 0 to 3 times \n",
    "digit = '(I[VX]|V?I{0,3})'\n",
    "\n",
    "regex_pattern = thousand + hundred + ten + digit + '$'\n",
    "\n",
    "\n",
    "import re\n",
    "print(str(bool(re.match(regex_pattern, input()))))"
   ]
  },
  {
   "cell_type": "markdown",
   "metadata": {},
   "source": [
    "### Validating phone numbers"
   ]
  },
  {
   "cell_type": "code",
   "execution_count": null,
   "metadata": {},
   "outputs": [],
   "source": [
    "import re\n",
    "\n",
    "# There must be one number between 7,8 or 9 and then exactly 9 digits from 0 to 9\n",
    "regex_pattern = r'(7|8|9){1}[0-9]{9}$'\n",
    "\n",
    "for i in range (int(input())):\n",
    "    if bool((re.match(regex_pattern, input()))) == True:\n",
    "        print(\"YES\")\n",
    "    else:\n",
    "        print(\"NO\")"
   ]
  },
  {
   "cell_type": "markdown",
   "metadata": {},
   "source": [
    "### Validating and Parsing Email Addresses"
   ]
  },
  {
   "cell_type": "code",
   "execution_count": null,
   "metadata": {},
   "outputs": [],
   "source": [
    "import re\n",
    "\n",
    "for _ in range(int(input())):\n",
    "    \n",
    "    # Take inputs\n",
    "    name, mail = input().split(' ')\n",
    "    \n",
    "    match = bool(re.match(r'<[A-Za-z](\\w|-|\\.|_)+@[A-Za-z]+\\.[A-Za-z]{1,3}>', mail))\n",
    "    \n",
    "    if match:\n",
    "        print(name, mail)"
   ]
  },
  {
   "cell_type": "markdown",
   "metadata": {},
   "source": [
    "### Hex Color Code"
   ]
  },
  {
   "cell_type": "code",
   "execution_count": null,
   "metadata": {},
   "outputs": [],
   "source": [
    "import re\n",
    "\n",
    "# Starts with '#', then from 3 to 6 letters or digits, all one or 2 times and then '\\n'\n",
    "pattern = r'(#[0-9a-fA-F]{3,6}){1,2}[^\\n ]'\n",
    "\n",
    "for _ in range (int(input())):\n",
    "    for hex_code in re.findall(pattern,input()):\n",
    "        print(hex_code)"
   ]
  },
  {
   "cell_type": "markdown",
   "metadata": {},
   "source": [
    "### HTML Parser - Part 1"
   ]
  },
  {
   "cell_type": "code",
   "execution_count": null,
   "metadata": {},
   "outputs": [],
   "source": [
    "from html.parser import HTMLParser\n",
    "\n",
    "# HTML parser class from task explanation\n",
    "class MyHTMLParser(HTMLParser):\n",
    "    def handle_starttag(self, tag, attrs):        \n",
    "        print ('Start :',tag)\n",
    "        for ele in attrs:\n",
    "            print ('->',ele[0],'>',ele[1])\n",
    "            \n",
    "    def handle_endtag(self, tag):\n",
    "        print ('End   :',tag)\n",
    "        \n",
    "    def handle_startendtag(self, tag, attrs):\n",
    "        print ('Empty :',tag)\n",
    "        for ele in attrs:\n",
    "            print ('->',ele[0],'>',ele[1])\n",
    "\n",
    "# Instantiation of the parser and fill with text \n",
    "MyParser = MyHTMLParser()\n",
    "MyParser.feed(''.join([input().strip() for _ in range(int(input()))]))"
   ]
  },
  {
   "cell_type": "markdown",
   "metadata": {},
   "source": [
    "### HTML Parser - Part 2"
   ]
  },
  {
   "cell_type": "code",
   "execution_count": null,
   "metadata": {},
   "outputs": [],
   "source": [
    "from html.parser import HTMLParser\n",
    "\n",
    "# HTML parser class from task explanation\n",
    "class MyHTMLParser(HTMLParser):\n",
    "    def handle_comment(self, comment):\n",
    "        if '\\n' in comment:\n",
    "            print('>>> Multi-line Comment')\n",
    "        else:\n",
    "            print('>>> Single-line Comment')\n",
    "            \n",
    "        print(comment)\n",
    "    \n",
    "    def handle_data(self, data):\n",
    "        if data == '\\n': return\n",
    "        print('>>> Data')\n",
    "        print(data)  \n",
    "  \n",
    "html = \"\"       \n",
    "for i in range(int(input())):\n",
    "    html += input().rstrip()\n",
    "    html += '\\n'\n",
    "    \n",
    "parser = MyHTMLParser()\n",
    "parser.feed(html)\n",
    "parser.close()"
   ]
  },
  {
   "cell_type": "markdown",
   "metadata": {},
   "source": [
    "### Detect HTML Tags, Attributes and Attribute Values"
   ]
  },
  {
   "cell_type": "code",
   "execution_count": null,
   "metadata": {},
   "outputs": [],
   "source": [
    "from html.parser import HTMLParser\n",
    "\n",
    "# Sub-class suggested in the previous excercises \n",
    "class MyHTMLParser(HTMLParser):\n",
    "    def handle_starttag(self, tag, attrs):\n",
    "        print(tag)\n",
    "        [print('-> {} > {}'.format(*attr)) for attr in attrs]\n",
    "        \n",
    "html = '\\n'.join([input() for _ in range(int(input()))])\n",
    "\n",
    "parser = MyHTMLParser()\n",
    "parser.feed(html)\n",
    "parser.close()"
   ]
  },
  {
   "cell_type": "markdown",
   "metadata": {},
   "source": [
    "### Validating UID"
   ]
  },
  {
   "cell_type": "code",
   "execution_count": null,
   "metadata": {},
   "outputs": [],
   "source": [
    "import re\n",
    "\n",
    "# (?!.*(.).*\\1) checks no repeating characters;\n",
    "# (?=(?:.*[A-Z]){2,}) checks at least 2 uppercase letters;\n",
    "# (?=(?:.*\\d){3,}) checks at least 3 digits;\n",
    "# [a-zA-Z0-9]{10} checks exactly 10 alphanumeric characters.\n",
    "pattern = r'^(?!.*(.).*\\1)(?=(?:.*[A-Z]){2,})(?=(?:.*\\d){3,})[a-zA-Z0-9]{10}$'\n",
    "\n",
    "for _ in range(int(input())):\n",
    "    if bool((re.match(pattern, input()))) == True:\n",
    "        print(\"Valid\")\n",
    "    else:\n",
    "        print(\"Invalid\")"
   ]
  },
  {
   "cell_type": "markdown",
   "metadata": {},
   "source": [
    "### Validating Credit Card Numbers"
   ]
  },
  {
   "cell_type": "code",
   "execution_count": null,
   "metadata": {},
   "outputs": [],
   "source": [
    "import re\n",
    "\n",
    "pattern_1 = r'^([456]\\d{3})(\\-?)(\\d{4})(\\2)(\\d{4})(\\2)(\\d{4})$' # check if is valid without '-'\n",
    "pattern_2 = r'^(?:([0-9])(?!\\1{3,})){16}$' # check 4+ repetitions, only digits and 16 lenght total\n",
    "\n",
    "for _ in range(int(input())):\n",
    "    line = input()\n",
    "    if re.match(pattern_1, line):\n",
    "        line = line.replace('-', '')\n",
    "        if re.match(pattern_2, line):\n",
    "            print('Valid')\n",
    "        else:\n",
    "            print('Invalid')\n",
    "    else:\n",
    "        print ('Invalid')"
   ]
  },
  {
   "cell_type": "markdown",
   "metadata": {},
   "source": [
    "### Validating Postal Codes"
   ]
  },
  {
   "cell_type": "code",
   "execution_count": null,
   "metadata": {},
   "outputs": [],
   "source": [
    "# numbers from 100000 up to 999999\n",
    "regex_integer_in_range = r\"^[1-9][\\d]{5}$\"\n",
    "\n",
    "# not alternative repetitive digit (\\1 is like jump 1 position and ?= is like follwed by)\n",
    "regex_alternating_repetitive_digit_pair = r\"(\\d)(?=\\d\\1)\"\n",
    "\n",
    "import re\n",
    "\n",
    "s = input()\n",
    "\n",
    "print (bool(re.match(regex_integer_in_range,s) and len(re.findall(regex_alternating_repetitive_digit_pair ,s))<2 ))"
   ]
  },
  {
   "cell_type": "markdown",
   "metadata": {},
   "source": [
    "### Matrix Script"
   ]
  },
  {
   "cell_type": "code",
   "execution_count": null,
   "metadata": {},
   "outputs": [],
   "source": [
    "import re\n",
    "\n",
    "first_multiple_input = input().rstrip().split()\n",
    "\n",
    "n = int(first_multiple_input[0])\n",
    "\n",
    "m = int(first_multiple_input[1])\n",
    "\n",
    "matrix = []\n",
    "\n",
    "for _ in range(n):\n",
    "    matrix_item = input()\n",
    "    matrix.append(matrix_item)\n",
    "\n",
    "\n",
    "text = [line[i] for i in range(m) for line in matrix]\n",
    "\n",
    "text = ''.join(text)\n",
    "\n",
    "#Validate, find and replace with spaces\n",
    "\n",
    "pattern = r'([A-Za-z0-9])[!@#$%&\\s]+(?=[A-Za-z0-9])'\n",
    "\n",
    "text = re.sub(pattern,r'\\1 ', text)\n",
    "\n",
    "print(text)    "
   ]
  },
  {
   "cell_type": "markdown",
   "metadata": {},
   "source": [
    "## XML"
   ]
  },
  {
   "cell_type": "markdown",
   "metadata": {},
   "source": [
    "### XML 1 - Find the Score"
   ]
  },
  {
   "cell_type": "code",
   "execution_count": null,
   "metadata": {},
   "outputs": [],
   "source": [
    "import sys\n",
    "import xml.etree.ElementTree as etree\n",
    "\n",
    "def get_attr_number(node):\n",
    "    # Method iter() iterate the tree starting from root. Function sum than add lenght of all the attributes for each node in the tree\n",
    "    return (sum([len(i.attrib) for i in root.iter()]))\n",
    "\n",
    "if __name__ == '__main__':\n",
    "    sys.stdin.readline()\n",
    "    xml = sys.stdin.read()\n",
    "    tree = etree.ElementTree(etree.fromstring(xml))\n",
    "    root = tree.getroot()\n",
    "    print(get_attr_number(root))"
   ]
  },
  {
   "cell_type": "markdown",
   "metadata": {},
   "source": [
    "### XML2 - Find the Maximum Depth"
   ]
  },
  {
   "cell_type": "code",
   "execution_count": null,
   "metadata": {},
   "outputs": [],
   "source": [
    "import xml.etree.ElementTree as etree\n",
    "\n",
    "maxdepth = 0\n",
    "def depth(elem, level):\n",
    "    global maxdepth\n",
    "    \n",
    "    # Recursive solution\n",
    "    level += 1\n",
    "    if level >= maxdepth: # if the level now is bigger --> founded new max-depth\n",
    "        maxdepth = level # so update its value\n",
    "    for child in elem: # for each children of the element of the tree\n",
    "        depth(child, level) # calculate if there is max-depth continuing with children\n",
    "        \n",
    "if __name__ == '__main__':\n",
    "    n = int(input())\n",
    "    xml = \"\"\n",
    "    for i in range(n):\n",
    "        xml =  xml + input() + \"\\n\"\n",
    "    tree = etree.ElementTree(etree.fromstring(xml))\n",
    "    depth(tree.getroot(), -1)\n",
    "    print(maxdepth)"
   ]
  },
  {
   "cell_type": "markdown",
   "metadata": {},
   "source": [
    "## Closures and Decorations"
   ]
  },
  {
   "cell_type": "markdown",
   "metadata": {},
   "source": [
    "### Standardize Mobile Number Using Decorators"
   ]
  },
  {
   "cell_type": "code",
   "execution_count": null,
   "metadata": {},
   "outputs": [],
   "source": [
    "def wrapper(f):\n",
    "    def fun(l):\n",
    "        # Start counting index from the last and form groups of 5 digits and append them to '+91'\n",
    "        decorator = ['+91 {} {}'.format(n[-10:-5], n[-5:]) for n in l]\n",
    "        return f(decorator)\n",
    "    return fun\n",
    "\n",
    "@wrapper\n",
    "def sort_phone(l):\n",
    "    print(*sorted(l), sep='\\n')\n",
    "\n",
    "if __name__ == '__main__':\n",
    "    l = [input() for _ in range(int(input()))]\n",
    "    sort_phone(l)"
   ]
  },
  {
   "cell_type": "markdown",
   "metadata": {},
   "source": [
    "### Decorators 2 - Name Directory"
   ]
  },
  {
   "cell_type": "code",
   "execution_count": null,
   "metadata": {},
   "outputs": [],
   "source": [
    "import operator\n",
    "\n",
    "def person_lister(f):\n",
    "    def inner(people):\n",
    "        # Sort people with age in ascending order\n",
    "        return map(f, sorted(people, key=lambda x: int(x[2])))\n",
    "    return inner\n",
    "\n",
    "@person_lister\n",
    "def name_format(person):\n",
    "    return (\"Mr. \" if person[3] == \"M\" else \"Ms. \") + person[0] + \" \" + person[1]\n",
    "\n",
    "if __name__ == '__main__':\n",
    "    people = [input().split() for i in range(int(input()))]\n",
    "    print(*name_format(people), sep='\\n')"
   ]
  },
  {
   "cell_type": "markdown",
   "metadata": {},
   "source": [
    "## Numpy"
   ]
  },
  {
   "cell_type": "markdown",
   "metadata": {},
   "source": [
    "### Arrays"
   ]
  },
  {
   "cell_type": "code",
   "execution_count": null,
   "metadata": {},
   "outputs": [],
   "source": [
    "import numpy\n",
    "\n",
    "def arrays(arr):\n",
    "    # return the list as a numpy array but inversed\n",
    "    return(numpy.array(arr[::-1], float))\n",
    "\n",
    "arr = input().strip().split(' ')\n",
    "result = arrays(arr)\n",
    "print(result)"
   ]
  },
  {
   "cell_type": "markdown",
   "metadata": {},
   "source": [
    "### Shape and Reshape"
   ]
  },
  {
   "cell_type": "code",
   "execution_count": null,
   "metadata": {},
   "outputs": [],
   "source": [
    "import numpy\n",
    "\n",
    "# Create array with inputs\n",
    "arr = numpy.array(input().split(),int)\n",
    "\n",
    "# Reshape\n",
    "print(numpy.reshape(arr,(3,3)))"
   ]
  },
  {
   "cell_type": "markdown",
   "metadata": {},
   "source": [
    "### Transpose and Flatten"
   ]
  },
  {
   "cell_type": "code",
   "execution_count": null,
   "metadata": {},
   "outputs": [],
   "source": [
    "import numpy\n",
    "\n",
    "# Take inputs and make array\n",
    "n, m = map(int, input().split())\n",
    "array = numpy.array([input().strip().split() for _ in range(n)], int)\n",
    "\n",
    "# Print tasks requests\n",
    "print (array.transpose())\n",
    "print (array.flatten())"
   ]
  },
  {
   "cell_type": "markdown",
   "metadata": {},
   "source": [
    "### Concatenate"
   ]
  },
  {
   "cell_type": "code",
   "execution_count": null,
   "metadata": {},
   "outputs": [],
   "source": [
    "import numpy\n",
    "\n",
    "# Take inputs and make array\n",
    "n, m, p = map(int, input().split())\n",
    "array_1 = numpy.array([input().strip().split() for _ in range(n)], int)\n",
    "array_2 = numpy.array([input().strip().split() for _ in range(m)], int)\n",
    "\n",
    "# Reshape\n",
    "numpy.reshape(array_1,(n,p))\n",
    "numpy.reshape(array_2,(m,p))\n",
    "\n",
    "# Concatenate\n",
    "print(numpy.concatenate((array_1, array_2), axis = 0))   "
   ]
  },
  {
   "cell_type": "markdown",
   "metadata": {},
   "source": [
    "### Zeros and Ones"
   ]
  },
  {
   "cell_type": "code",
   "execution_count": null,
   "metadata": {},
   "outputs": [],
   "source": [
    "import numpy\n",
    "\n",
    "# Take inputs\n",
    "dimensions = list(map(int, input().split()))\n",
    "\n",
    "# Print requests\n",
    "print (numpy.zeros(dimensions, dtype = numpy.int))\n",
    "print (numpy.ones(dimensions, dtype = numpy.int))"
   ]
  },
  {
   "cell_type": "markdown",
   "metadata": {},
   "source": [
    "### Eye and Identity"
   ]
  },
  {
   "cell_type": "code",
   "execution_count": null,
   "metadata": {},
   "outputs": [],
   "source": [
    "import numpy\n",
    "numpy.set_printoptions(legacy = '1.13')\n",
    "\n",
    "# Take inputs\n",
    "n, m = map(int, input().split())\n",
    "\n",
    "# Print requests\n",
    "print(numpy.eye(n,m))"
   ]
  },
  {
   "cell_type": "markdown",
   "metadata": {},
   "source": [
    "### Array Mathematics"
   ]
  },
  {
   "cell_type": "code",
   "execution_count": null,
   "metadata": {},
   "outputs": [],
   "source": [
    "import numpy\n",
    "\n",
    "# Take inputs and make array\n",
    "n, m = map(int, input().split())\n",
    "A = numpy.array([list(map(int, input().split())) for _ in range(n)], int)\n",
    "B = numpy.array([list(map(int, input().split())) for _ in range(n)], int)\n",
    "\n",
    "# Print requests\n",
    "print(numpy.add(A, B))\n",
    "print(numpy.subtract(A, B))\n",
    "print(numpy.multiply(A, B))\n",
    "print(numpy.floor_divide(A, B))\n",
    "print(numpy.mod(A, B))\n",
    "print(numpy.power(A, B))"
   ]
  },
  {
   "cell_type": "markdown",
   "metadata": {},
   "source": [
    "### Floor, Ceil and Rint"
   ]
  },
  {
   "cell_type": "code",
   "execution_count": null,
   "metadata": {},
   "outputs": [],
   "source": [
    "import numpy\n",
    "numpy.set_printoptions(legacy = '1.13')\n",
    "\n",
    "# Take inputs\n",
    "array = numpy.array(input().strip().split(), float)\n",
    "\n",
    "# Print requests\n",
    "print(numpy.floor(array))\n",
    "print(numpy.ceil(array))\n",
    "print(numpy.rint(array))"
   ]
  },
  {
   "cell_type": "markdown",
   "metadata": {},
   "source": [
    "### Sum and Prod"
   ]
  },
  {
   "cell_type": "code",
   "execution_count": null,
   "metadata": {},
   "outputs": [],
   "source": [
    "import numpy\n",
    "\n",
    "# Take inputs and make array\n",
    "n, m = map(int, input().split())\n",
    "array = numpy.array([input().split() for _ in range(n)], int)\n",
    "\n",
    "array = numpy.sum(array, axis = 0)\n",
    "print(numpy.prod(array))"
   ]
  },
  {
   "cell_type": "markdown",
   "metadata": {},
   "source": [
    "### Min and Max"
   ]
  },
  {
   "cell_type": "code",
   "execution_count": null,
   "metadata": {},
   "outputs": [],
   "source": [
    "import numpy\n",
    "\n",
    "# Take inputs and make array\n",
    "n, m = map(int, input().split())\n",
    "array = numpy.array([input().split() for _ in range(n)], int)\n",
    "\n",
    "array = numpy.min(array, axis = 1)\n",
    "print(numpy.max(array))"
   ]
  },
  {
   "cell_type": "markdown",
   "metadata": {},
   "source": [
    "### Mean, Var, and Std"
   ]
  },
  {
   "cell_type": "code",
   "execution_count": null,
   "metadata": {},
   "outputs": [],
   "source": [
    "import numpy\n",
    "\n",
    "# Take inputs and make array\n",
    "n, m = map(int, input().split())\n",
    "array = numpy.array([input().split() for _ in range(n)], int)\n",
    "\n",
    "print(numpy.mean(array, axis = 1))\n",
    "print(numpy.var(array, axis = 0))\n",
    "\n",
    "# Problem in formatting by hackerank, you need to use function round() to solve it.\n",
    "print(round(numpy.std(array), 11))"
   ]
  },
  {
   "cell_type": "markdown",
   "metadata": {},
   "source": [
    "### Dot and Cross"
   ]
  },
  {
   "cell_type": "code",
   "execution_count": null,
   "metadata": {},
   "outputs": [],
   "source": [
    "import numpy\n",
    "\n",
    "import numpy\n",
    "\n",
    "# Take inputs and make arrays\n",
    "n = int(input())\n",
    "A = numpy.array([list(map(int, input().split())) for _ in range(n)], int)\n",
    "B = numpy.array([list(map(int, input().split())) for _ in range(n)], int)\n",
    "\n",
    "print(numpy.dot(A, B))"
   ]
  },
  {
   "cell_type": "markdown",
   "metadata": {},
   "source": [
    "### Inner and Outer"
   ]
  },
  {
   "cell_type": "code",
   "execution_count": null,
   "metadata": {},
   "outputs": [],
   "source": [
    "import numpy\n",
    "\n",
    "# Take inputs\n",
    "A = numpy.array(input().strip().split(), int)\n",
    "B = numpy.array(input().strip().split(), int)\n",
    "\n",
    "# Print results\n",
    "print(numpy.inner(A, B))\n",
    "print(numpy.outer(A, B))"
   ]
  },
  {
   "cell_type": "markdown",
   "metadata": {},
   "source": [
    "### Polynomials"
   ]
  },
  {
   "cell_type": "code",
   "execution_count": null,
   "metadata": {},
   "outputs": [],
   "source": [
    "import numpy\n",
    "\n",
    "# Take inputs\n",
    "coefficients = list(map(float, input().split()))\n",
    "value = n = int(input())\n",
    "\n",
    "# print result\n",
    "print(numpy.polyval(coefficients, value))"
   ]
  },
  {
   "cell_type": "markdown",
   "metadata": {},
   "source": [
    "### Linear Algebra"
   ]
  },
  {
   "cell_type": "code",
   "execution_count": null,
   "metadata": {},
   "outputs": [],
   "source": [
    "import numpy\n",
    "\n",
    "# Take inputs and make array\n",
    "n = int(input())\n",
    "A = numpy.array([input().split() for _ in range(n)], float)\n",
    "\n",
    "# Print result (problem with format of response by hackerank)\n",
    "numpy.set_printoptions(legacy='1.13')\n",
    "print(numpy.linalg.det(A))"
   ]
  },
  {
   "cell_type": "markdown",
   "metadata": {},
   "source": [
    "## Section 2"
   ]
  },
  {
   "cell_type": "markdown",
   "metadata": {},
   "source": [
    "### Birthday Cake Candles"
   ]
  },
  {
   "cell_type": "code",
   "execution_count": null,
   "metadata": {},
   "outputs": [],
   "source": [
    "import math\n",
    "import os\n",
    "import random\n",
    "import re\n",
    "import sys\n",
    "\n",
    "def birthdayCakeCandles(candles):\n",
    "    return candles.count(max(candles))\n",
    "\n",
    "if __name__ == '__main__':\n",
    "    fptr = open(os.environ['OUTPUT_PATH'], 'w')\n",
    "\n",
    "    candles_count = int(input().strip())\n",
    "\n",
    "    candles = list(map(int, input().rstrip().split()))\n",
    "\n",
    "    result = birthdayCakeCandles(candles)\n",
    "\n",
    "    fptr.write(str(result) + '\\n')\n",
    "\n",
    "    fptr.close()"
   ]
  },
  {
   "cell_type": "markdown",
   "metadata": {},
   "source": [
    "### Number Line Jumps"
   ]
  },
  {
   "cell_type": "code",
   "execution_count": null,
   "metadata": {},
   "outputs": [],
   "source": [
    "import math\n",
    "import os\n",
    "import random\n",
    "import re\n",
    "import sys\n",
    "\n",
    "# The problem is to calculate if a number i such that (x2-x1)/(v1-v2)=i exists, so (x2-x1) must be a divisor of (v1-v2). In addition the fraction must be >0, so when x2>x1 and the denominator must be !=0, so only when v1>v2 \n",
    "\n",
    "def kangaroo(x1, v1, x2, v2):\n",
    "    if (x2 > x1 and v1 > v2):\n",
    "        if (x2-x1)%(v1-v2) == 0:\n",
    "            return('YES')\n",
    "        else:\n",
    "            return ('NO')\n",
    "    else:\n",
    "        return('NO')\n",
    "\n",
    "        \n",
    "if __name__ == '__main__':\n",
    "    fptr = open(os.environ['OUTPUT_PATH'], 'w')\n",
    "\n",
    "    first_multiple_input = input().rstrip().split()\n",
    "\n",
    "    x1 = int(first_multiple_input[0])\n",
    "\n",
    "    v1 = int(first_multiple_input[1])\n",
    "\n",
    "    x2 = int(first_multiple_input[2])\n",
    "\n",
    "    v2 = int(first_multiple_input[3])\n",
    "\n",
    "    result = kangaroo(x1, v1, x2, v2)\n",
    "\n",
    "    fptr.write(result + '\\n')\n",
    "\n",
    "    fptr.close()"
   ]
  },
  {
   "cell_type": "markdown",
   "metadata": {},
   "source": [
    "### Viral Advertising"
   ]
  },
  {
   "cell_type": "code",
   "execution_count": null,
   "metadata": {},
   "outputs": [],
   "source": [
    "import math\n",
    "import os\n",
    "import random\n",
    "import re\n",
    "import sys\n",
    "\n",
    "def viralAdvertising(n):\n",
    "    \n",
    "    recipients = 5\n",
    "    rate = 3\n",
    "    result = 0\n",
    "    \n",
    "    # Do math operations and return result\n",
    "    for i in range(n):\n",
    "        recipients = math.floor(recipients/2)\n",
    "        result += recipients\n",
    "        recipients = recipients * rate\n",
    "    return result\n",
    "\n",
    "if __name__ == '__main__':\n",
    "    fptr = open(os.environ['OUTPUT_PATH'], 'w')\n",
    "\n",
    "    n = int(input().strip())\n",
    "\n",
    "    result = viralAdvertising(n)\n",
    "\n",
    "    fptr.write(str(result) + '\\n')\n",
    "\n",
    "    fptr.close()\n"
   ]
  },
  {
   "cell_type": "markdown",
   "metadata": {},
   "source": [
    "### Recursive Digit Sum"
   ]
  },
  {
   "cell_type": "code",
   "execution_count": null,
   "metadata": {},
   "outputs": [],
   "source": [
    "import math\n",
    "import os\n",
    "import random\n",
    "import re\n",
    "import sys\n",
    "\n",
    "def superDigit(n, k):\n",
    "    \n",
    "    # Calculate the \"superDigit\" is the same thing (in decimal system) as calculate the rest of the division by 9\n",
    "    x = n * k % 9\n",
    "    \n",
    "    # If n * k % 9 = 0 the excercise want the return as 9\n",
    "    return x if x else 9\n",
    "\n",
    "if __name__ == '__main__':\n",
    "\n",
    "    n, k = map(int, input().split())\n",
    "    result = superDigit(n, k)\n",
    "    print(result)"
   ]
  },
  {
   "cell_type": "markdown",
   "metadata": {},
   "source": [
    "### Insertion Sort - Part 1"
   ]
  },
  {
   "cell_type": "code",
   "execution_count": null,
   "metadata": {},
   "outputs": [],
   "source": [
    "#!/bin/python3\n",
    "\n",
    "import math\n",
    "import os\n",
    "import random\n",
    "import re\n",
    "import sys\n",
    "\n",
    "\n",
    "def insertionSort1(n, arr):\n",
    "    \n",
    "    value = arr[len(arr)-1]\n",
    "    \n",
    "    for i in reversed(range(len(arr)-1)):\n",
    "        # Go ahead\n",
    "        if arr[i] > value:\n",
    "            arr[i+1] = arr[i]\n",
    "        \n",
    "        # Insert data in the i position and stop the algorithm\n",
    "        else:\n",
    "            arr[i+1] = value\n",
    "            print(*arr)\n",
    "            break\n",
    "        print(*arr)\n",
    "        \n",
    "    # If the value has to be put in the head of the list\n",
    "    if value not in arr:\n",
    "        arr[0] = value\n",
    "        print(*arr)\n",
    "\n",
    "if __name__ == '__main__':\n",
    "    n = int(input().strip())\n",
    "\n",
    "    arr = list(map(int, input().rstrip().split()))\n",
    "\n",
    "    insertionSort1(n, arr)\n"
   ]
  },
  {
   "cell_type": "markdown",
   "metadata": {},
   "source": [
    "### Insertion Sort - Part 2"
   ]
  },
  {
   "cell_type": "code",
   "execution_count": null,
   "metadata": {},
   "outputs": [],
   "source": [
    "import math\n",
    "import os\n",
    "import random\n",
    "import re\n",
    "import sys\n",
    "\n",
    "def insertionSort2(n, arr):\n",
    "\n",
    "    for i in range(1, len(arr)):\n",
    "        # Start checking the value with index 1\n",
    "        value_to_check = arr[i]\n",
    "        \n",
    "        # j is equal to the previous index of i \n",
    "        j = i\n",
    "        \n",
    "        while j >= 1 and arr[j-1] > value_to_check:\n",
    "            # Move ahead\n",
    "            arr[j] = arr[j-1]\n",
    "            \n",
    "            # Decrementing j\n",
    "            j -= 1\n",
    "            \n",
    "        # Put the value after loop\n",
    "        arr[j] = value_to_check\n",
    "        print(*arr)\n",
    "\n",
    "if __name__ == '__main__':\n",
    "    n = int(input().strip())\n",
    "\n",
    "    arr = list(map(int, input().rstrip().split()))\n",
    "\n",
    "    insertionSort2(n, arr)"
   ]
  }
 ],
 "metadata": {
  "kernelspec": {
   "display_name": "Python 3 (ipykernel)",
   "language": "python",
   "name": "python3"
  },
  "language_info": {
   "codemirror_mode": {
    "name": "ipython",
    "version": 3
   },
   "file_extension": ".py",
   "mimetype": "text/x-python",
   "name": "python",
   "nbconvert_exporter": "python",
   "pygments_lexer": "ipython3",
   "version": "3.7.6"
  }
 },
 "nbformat": 4,
 "nbformat_minor": 4
}
